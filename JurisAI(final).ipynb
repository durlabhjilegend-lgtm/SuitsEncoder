{
  "nbformat": 4,
  "nbformat_minor": 0,
  "metadata": {
    "colab": {
      "provenance": [],
      "authorship_tag": "ABX9TyNHTDoLQ5sTh8SuXTWzEIr/",
      "include_colab_link": true
    },
    "kernelspec": {
      "name": "python3",
      "display_name": "Python 3"
    },
    "language_info": {
      "name": "python"
    }
  },
  "cells": [
    {
      "cell_type": "markdown",
      "metadata": {
        "id": "view-in-github",
        "colab_type": "text"
      },
      "source": [
        "<a href=\"https://colab.research.google.com/github/durlabhjilegend-lgtm/SuitsEncoder/blob/main/JurisAI(final).ipynb\" target=\"_parent\"><img src=\"https://colab.research.google.com/assets/colab-badge.svg\" alt=\"Open In Colab\"/></a>"
      ]
    },
    {
      "cell_type": "code",
      "execution_count": 15,
      "metadata": {
        "id": "wsf2QUc3MIqK"
      },
      "outputs": [],
      "source": [
        "import os\n",
        "os.environ[\"GEMINI_API_KEY\"] = \"GOOGLE_API_KEY\"\n",
        "!pip install django djangorestframework google-cloud-documentai google-generativeai PyPDF2 python-decouple django-cors-headers pyngrok streamlit --quiet\n"
      ]
    },
    {
      "cell_type": "code",
      "source": [
        "!rm -rf jurisai_backend\n",
        "!django-admin startproject jurisai_backend\n",
        "%cd jurisai_backend\n",
        "!python manage.py startapp api\n",
        "open('api/__init__.py', 'a').close()\n"
      ],
      "metadata": {
        "colab": {
          "base_uri": "https://localhost:8080/"
        },
        "id": "dUwyc_pLMNtC",
        "outputId": "e7f9c408-7413-4fac-bca8-a3f4ac17a833"
      },
      "execution_count": 16,
      "outputs": [
        {
          "output_type": "stream",
          "name": "stdout",
          "text": [
            "/content/jurisai_backend\n"
          ]
        }
      ]
    },
    {
      "cell_type": "code",
      "source": [
        "settings_code = \"\"\"\n",
        "import os\n",
        "from pathlib import Path\n",
        "\n",
        "BASE_DIR = Path(__file__).resolve().parent.parent\n",
        "\n",
        "SECRET_KEY = 'colab-jurisai-secret'\n",
        "DEBUG = True\n",
        "ALLOWED_HOSTS = ['*']\n",
        "\n",
        "INSTALLED_APPS = [\n",
        "    'django.contrib.admin',\n",
        "    'django.contrib.auth',\n",
        "    'django.contrib.contenttypes',\n",
        "    'django.contrib.sessions',\n",
        "    'django.contrib.messages',\n",
        "    'django.contrib.staticfiles',\n",
        "    'rest_framework',\n",
        "    'corsheaders',\n",
        "    'api',\n",
        "]\n",
        "\n",
        "MIDDLEWARE = [\n",
        "    'corsheaders.middleware.CorsMiddleware',\n",
        "    'django.middleware.common.CommonMiddleware',\n",
        "    'django.middleware.security.SecurityMiddleware',\n",
        "    'django.contrib.sessions.middleware.SessionMiddleware',\n",
        "    'django.middleware.csrf.CsrfViewMiddleware',\n",
        "    'django.contrib.auth.middleware.AuthenticationMiddleware',\n",
        "    'django.contrib.messages.middleware.MessageMiddleware',\n",
        "    'django.middleware.clickjacking.XFrameOptionsMiddleware',\n",
        "]\n",
        "\n",
        "ROOT_URLCONF = 'jurisai_backend.urls'\n",
        "\n",
        "TEMPLATES = [\n",
        "    {\n",
        "        'BACKEND': 'django.template.backends.django.DjangoTemplates',\n",
        "        'DIRS': [],\n",
        "        'APP_DIRS': True,\n",
        "        'OPTIONS': {\n",
        "            'context_processors': [\n",
        "                'django.template.context_processors.debug',\n",
        "                'django.template.context_processors.request',\n",
        "                'django.contrib.auth.context_processors.auth',\n",
        "                'django.contrib.messages.context_processors.messages',\n",
        "            ],\n",
        "        },\n",
        "    },\n",
        "]\n",
        "\n",
        "DATABASES = {\n",
        "    'default': {\n",
        "        'ENGINE': 'django.db.backends.sqlite3',\n",
        "        'NAME': BASE_DIR / 'db.sqlite3',\n",
        "    }\n",
        "}\n",
        "\n",
        "REST_FRAMEWORK = {\n",
        "    'DEFAULT_PERMISSION_CLASSES': [\n",
        "        'rest_framework.permissions.AllowAny',\n",
        "    ],\n",
        "    'DEFAULT_RENDERER_CLASSES': [\n",
        "        'rest_framework.renderers.JSONRenderer',\n",
        "    ],\n",
        "}\n",
        "CORS_ALLOW_ALL_ORIGINS = True\n",
        "CORS_ALLOW_CREDENTIALS = True\n",
        "LANGUAGE_CODE = 'en-us'\n",
        "TIME_ZONE = 'UTC'\n",
        "USE_I18N = True\n",
        "USE_TZ = True\n",
        "\n",
        "STATIC_URL = '/static/'\n",
        "MEDIA_URL = '/media/'\n",
        "MEDIA_ROOT = os.path.join(BASE_DIR, 'media')\n",
        "\"\"\"\n",
        "with open('jurisai_backend/settings.py', 'w') as f:\n",
        "    f.write(settings_code)\n"
      ],
      "metadata": {
        "id": "QYDtWSrKMRbP"
      },
      "execution_count": 17,
      "outputs": []
    },
    {
      "cell_type": "code",
      "source": [
        "models_code = \"\"\"\n",
        "from django.db import models\n",
        "import uuid\n",
        "\n",
        "class LegalDocument(models.Model):\n",
        "    DOCUMENT_TYPES = [\n",
        "        ('agreement', 'Agreement'),\n",
        "        ('contract', 'Contract Vetting'),\n",
        "        ('privacy_policy', 'Privacy Policy'),\n",
        "        ('terms_of_service', 'Terms of Service'),\n",
        "    ]\n",
        "    id = models.UUIDField(primary_key=True, default=uuid.uuid4, editable=False)\n",
        "    document_type = models.CharField(max_length=32, choices=DOCUMENT_TYPES)\n",
        "    file_name = models.CharField(max_length=255)\n",
        "    upload_date = models.DateTimeField(auto_now_add=True)\n",
        "    extracted_text = models.TextField(blank=True)\n",
        "    analysis_result = models.JSONField(null=True, blank=True)\n",
        "    highlighted_sections = models.JSONField(null=True, blank=True)\n",
        "    def __str__(self):\n",
        "        return f\"{self.file_name} ({self.get_document_type_display()})\"\n",
        "\n",
        "class DocumentAnalysis(models.Model):\n",
        "    document = models.OneToOneField(LegalDocument, on_delete=models.CASCADE, related_name='detailed_analysis')\n",
        "    registration_status = models.CharField(max_length=100, blank=True)\n",
        "    parties_involved = models.TextField(blank=True)\n",
        "    effective_date = models.CharField(max_length=255, blank=True)\n",
        "    purpose = models.TextField(blank=True)\n",
        "    terms_conditions = models.TextField(blank=True)\n",
        "    default_clause = models.TextField(blank=True)\n",
        "    termination_clause = models.TextField(blank=True)\n",
        "    tenure_period = models.CharField(max_length=255, blank=True)\n",
        "    owner = models.CharField(max_length=255, blank=True)\n",
        "    data_collected = models.TextField(blank=True)\n",
        "    user_rights = models.TextField(blank=True)\n",
        "    data_retention = models.TextField(blank=True)\n",
        "    service_terms = models.TextField(blank=True)\n",
        "    created_at = models.DateTimeField(auto_now_add=True)\n",
        "    updated_at = models.DateTimeField(auto_now=True)\n",
        "    def __str__(self):\n",
        "        return f\"Analysis for {self.document.file_name}\"\n",
        "\n",
        "class QuestionAnswer(models.Model):\n",
        "    document = models.ForeignKey(LegalDocument, on_delete=models.CASCADE, related_name='questions')\n",
        "    question = models.TextField()\n",
        "    answer = models.TextField()\n",
        "    timestamp = models.DateTimeField(auto_now_add=True)\n",
        "    def __str__(self):\n",
        "        return f\"Q&A [{self.document.file_name}] {self.question[:30]}...\"\n",
        "\"\"\"\n",
        "with open('api/models.py', 'w') as f:\n",
        "    f.write(models_code)\n"
      ],
      "metadata": {
        "id": "PX51wiv0MUHp"
      },
      "execution_count": 18,
      "outputs": []
    },
    {
      "cell_type": "code",
      "source": [
        "serializer_code = \"\"\"\n",
        "from rest_framework import serializers\n",
        "from .models import LegalDocument, DocumentAnalysis, QuestionAnswer\n",
        "\n",
        "class LegalDocumentSerializer(serializers.ModelSerializer):\n",
        "    class Meta:\n",
        "        model = LegalDocument\n",
        "        fields = '__all__'\n",
        "\n",
        "class DocumentAnalysisSerializer(serializers.ModelSerializer):\n",
        "    class Meta:\n",
        "        model = DocumentAnalysis\n",
        "        fields = '__all__'\n",
        "\n",
        "class QuestionAnswerSerializer(serializers.ModelSerializer):\n",
        "    class Meta:\n",
        "        model = QuestionAnswer\n",
        "        fields = '__all__'\n",
        "\"\"\"\n",
        "with open('api/serializers.py', 'w') as f:\n",
        "    f.write(serializer_code)\n"
      ],
      "metadata": {
        "id": "G3-o9Wl8MWK-"
      },
      "execution_count": 19,
      "outputs": []
    },
    {
      "cell_type": "code",
      "source": [
        "views_code = \"\"\"\n",
        "from rest_framework import viewsets, status\n",
        "from rest_framework.decorators import action\n",
        "from rest_framework.response import Response\n",
        "from .models import LegalDocument, DocumentAnalysis, QuestionAnswer\n",
        "from .serializers import LegalDocumentSerializer, DocumentAnalysisSerializer, QuestionAnswerSerializer\n",
        "import PyPDF2\n",
        "\n",
        "class LegalDocumentViewSet(viewsets.ModelViewSet):\n",
        "    queryset = LegalDocument.objects.all()\n",
        "    serializer_class = LegalDocumentSerializer\n",
        "\n",
        "    def create(self, request):\n",
        "        file = request.FILES.get('file')\n",
        "        document_type = request.data.get('document_type')\n",
        "        if not file or not document_type:\n",
        "            return Response({'error': 'File and document_type required.'}, status=status.HTTP_400_BAD_REQUEST)\n",
        "        pdf_reader = PyPDF2.PdfReader(file)\n",
        "        text = \"\"\n",
        "        for page in pdf_reader.pages:\n",
        "            text += page.extract_text() or \"\"\n",
        "        analysis_result = {\"summary\": text[:500]}\n",
        "        highlights = [{\"line_number\": 1, \"text\": text.split(\"\\\\n\")[0], \"keyword\": \"sample\", \"importance\": \"high\"}]\n",
        "        doc = LegalDocument.objects.create(\n",
        "            document_type=document_type,\n",
        "            file_name=file.name,\n",
        "            extracted_text=text,\n",
        "            analysis_result=analysis_result,\n",
        "            highlighted_sections=highlights\n",
        "        )\n",
        "        return Response(self.get_serializer(doc).data, status=status.HTTP_201_CREATED)\n",
        "\n",
        "    @action(detail=True, methods=['post'])\n",
        "    def ask_question(self, request, pk=None):\n",
        "        document = self.get_object()\n",
        "        question = request.data.get('question')\n",
        "        import google.generativeai as genai\n",
        "        import os\n",
        "\n",
        "        api_key = os.environ.get(\"GEMINI_API_KEY\")\n",
        "        if not api_key:\n",
        "            return Response({\"answer\": \"No Gemini API key set.\"})\n",
        "\n",
        "        try:\n",
        "            genai.configure(api_key=api_key)\n",
        "            model = genai.GenerativeModel('gemini-1.5-flash')\n",
        "            prompt = f\"Based on the following legal document, answer this question: {question}\\\\n\\\\nDocument:\\\\n{document.extracted_text}\"\n",
        "            response = model.generate_content(prompt)\n",
        "            if hasattr(response, \"text\"):\n",
        "                answer = response.text\n",
        "            elif hasattr(response, \"candidates\") and len(response.candidates) > 0:\n",
        "                answer = response.candidates[0][\"output\"]\n",
        "            else:\n",
        "                answer = str(response)\n",
        "        except Exception as e:\n",
        "            answer = f\"Error calling Gemini: {e}\"\n",
        "\n",
        "        qa = QuestionAnswer.objects.create(document=document, question=question, answer=answer)\n",
        "        return Response({\"question\": question, \"answer\": answer})\n",
        "\"\"\"\n",
        "with open('api/views.py', 'w') as f:\n",
        "    f.write(views_code)\n"
      ],
      "metadata": {
        "id": "S8KJXcaLMYBg"
      },
      "execution_count": 20,
      "outputs": []
    },
    {
      "cell_type": "code",
      "source": [
        "api_urls_code = \"\"\"\n",
        "from django.urls import path, include\n",
        "from rest_framework.routers import DefaultRouter\n",
        "from .views import LegalDocumentViewSet\n",
        "\n",
        "router = DefaultRouter()\n",
        "router.register(r'documents', LegalDocumentViewSet)\n",
        "\n",
        "urlpatterns = [\n",
        "    path('', include(router.urls)),\n",
        "]\n",
        "\"\"\"\n",
        "with open('api/urls.py', 'w') as f:\n",
        "    f.write(api_urls_code)\n",
        "\n",
        "main_urls_code = \"\"\"\n",
        "from django.contrib import admin\n",
        "from django.urls import path, include\n",
        "\n",
        "urlpatterns = [\n",
        "    path('admin/', admin.site.urls),\n",
        "    path('api/', include('api.urls')),\n",
        "]\n",
        "\"\"\"\n",
        "with open('jurisai_backend/urls.py', 'w') as f:\n",
        "    f.write(main_urls_code)\n"
      ],
      "metadata": {
        "id": "UXS9BFB9MhbW"
      },
      "execution_count": 21,
      "outputs": []
    },
    {
      "cell_type": "code",
      "source": [
        "admin_code = \"\"\"\n",
        "from django.contrib import admin\n",
        "from .models import LegalDocument, DocumentAnalysis, QuestionAnswer\n",
        "admin.site.register(LegalDocument)\n",
        "admin.site.register(DocumentAnalysis)\n",
        "admin.site.register(QuestionAnswer)\n",
        "\"\"\"\n",
        "with open('api/admin.py', 'w') as f:\n",
        "    f.write(admin_code)\n"
      ],
      "metadata": {
        "id": "_D_mIdr7MmaM"
      },
      "execution_count": 22,
      "outputs": []
    },
    {
      "cell_type": "code",
      "source": [
        "!python manage.py makemigrations\n",
        "!python manage.py migrate\n"
      ],
      "metadata": {
        "colab": {
          "base_uri": "https://localhost:8080/"
        },
        "id": "UUgjxiDHMoAS",
        "outputId": "5c130e86-372d-4067-8edd-2d9f3150bbd6"
      },
      "execution_count": 23,
      "outputs": [
        {
          "output_type": "stream",
          "name": "stdout",
          "text": [
            "\u001b[36;1mMigrations for 'api':\u001b[0m\n",
            "  \u001b[1mapi/migrations/0001_initial.py\u001b[0m\n",
            "    + Create model LegalDocument\n",
            "    + Create model DocumentAnalysis\n",
            "    + Create model QuestionAnswer\n",
            "\u001b[36;1mOperations to perform:\u001b[0m\n",
            "\u001b[1m  Apply all migrations: \u001b[0madmin, api, auth, contenttypes, sessions\n",
            "\u001b[36;1mRunning migrations:\u001b[0m\n",
            "  Applying contenttypes.0001_initial...\u001b[32;1m OK\u001b[0m\n",
            "  Applying auth.0001_initial...\u001b[32;1m OK\u001b[0m\n",
            "  Applying admin.0001_initial...\u001b[32;1m OK\u001b[0m\n",
            "  Applying admin.0002_logentry_remove_auto_add...\u001b[32;1m OK\u001b[0m\n",
            "  Applying admin.0003_logentry_add_action_flag_choices...\u001b[32;1m OK\u001b[0m\n",
            "  Applying api.0001_initial...\u001b[32;1m OK\u001b[0m\n",
            "  Applying contenttypes.0002_remove_content_type_name...\u001b[32;1m OK\u001b[0m\n",
            "  Applying auth.0002_alter_permission_name_max_length...\u001b[32;1m OK\u001b[0m\n",
            "  Applying auth.0003_alter_user_email_max_length...\u001b[32;1m OK\u001b[0m\n",
            "  Applying auth.0004_alter_user_username_opts...\u001b[32;1m OK\u001b[0m\n",
            "  Applying auth.0005_alter_user_last_login_null...\u001b[32;1m OK\u001b[0m\n",
            "  Applying auth.0006_require_contenttypes_0002...\u001b[32;1m OK\u001b[0m\n",
            "  Applying auth.0007_alter_validators_add_error_messages...\u001b[32;1m OK\u001b[0m\n",
            "  Applying auth.0008_alter_user_username_max_length...\u001b[32;1m OK\u001b[0m\n",
            "  Applying auth.0009_alter_user_last_name_max_length...\u001b[32;1m OK\u001b[0m\n",
            "  Applying auth.0010_alter_group_name_max_length...\u001b[32;1m OK\u001b[0m\n",
            "  Applying auth.0011_update_proxy_permissions...\u001b[32;1m OK\u001b[0m\n",
            "  Applying auth.0012_alter_user_first_name_max_length...\u001b[32;1m OK\u001b[0m\n",
            "  Applying sessions.0001_initial...\u001b[32;1m OK\u001b[0m\n"
          ]
        }
      ]
    },
    {
      "cell_type": "code",
      "source": [
        "import os\n",
        "from pyngrok import ngrok, conf\n",
        "import threading, time\n",
        "from google.colab import userdata\n",
        "\n",
        "# Get the authtoken from Colab secrets\n",
        "NGROK_AUTH_TOKEN = userdata.get('NGROK_AUTH_TOKEN')\n",
        "\n",
        "# Configure pyngrok with the authtoken\n",
        "if NGROK_AUTH_TOKEN:\n",
        "    conf.get_default().auth_token = NGROK_AUTH_TOKEN\n",
        "    print(\"ngrok authtoken configured.\")\n",
        "else:\n",
        "    print(\"Warning: NGROK_AUTH_TOKEN not found in Colab secrets. ngrok may not work.\")\n",
        "\n",
        "\n",
        "os.environ.setdefault('DJANGO_SETTINGS_MODULE','jurisai_backend.settings')\n",
        "import django\n",
        "django.setup()\n",
        "\n",
        "def run():\n",
        "    os.system(\"python manage.py runserver 0.0.0.0:8000\")\n",
        "\n",
        "t = threading.Thread(target=run)\n",
        "t.start()\n",
        "\n",
        "time.sleep(4)\n",
        "try:\n",
        "  public_url = ngrok.connect(8000)\n",
        "  print(\"Django REST API is live:\", public_url)\n",
        "except Exception as e:\n",
        "  print(f\"Failed to connect ngrok: {e}\")\n",
        "  print(\"Please ensure you have added your NGROK_AUTH_TOKEN to Colab secrets.\")"
      ],
      "metadata": {
        "colab": {
          "base_uri": "https://localhost:8080/"
        },
        "id": "0bu2Edz8MpZa",
        "outputId": "ad07adcc-fe99-469c-dda2-092dad84f273"
      },
      "execution_count": 24,
      "outputs": [
        {
          "output_type": "stream",
          "name": "stdout",
          "text": [
            "ngrok authtoken configured.\n",
            "Django REST API is live: NgrokTunnel: \"https://1b15ae1e142a.ngrok-free.app\" -> \"http://localhost:8000\"\n"
          ]
        }
      ]
    },
    {
      "cell_type": "code",
      "source": [
        "import os\n",
        "os.chdir(\"..\")\n",
        "\n",
        "streamlit_code = '''\n",
        "import streamlit as st\n",
        "import requests\n",
        "\n",
        "API_URL = \"http://localhost:8000/api/documents/\"  # <-- Replace with your backend ngrok URL\n",
        "\n",
        "st.title(\"⚖️ JurisAI Legal Document Analyzer\")\n",
        "\n",
        "dtype = st.selectbox(\"Select Document Type\", [\n",
        "    (\"agreement\", \"Agreement\"),\n",
        "    (\"contract\", \"Contract Vetting\"),\n",
        "    (\"privacy_policy\", \"Privacy Policy\"),\n",
        "    (\"terms_of_service\", \"Terms of Service\")\n",
        "], format_func=lambda x: x[1])\n",
        "\n",
        "pdf = st.file_uploader(\"Upload PDF\", type='pdf')\n",
        "\n",
        "if pdf and st.button(\"Analyze\"):\n",
        "    files = {'file': (pdf.name, pdf.getvalue(), 'application/pdf')}\n",
        "    data = {'document_type': dtype[0]}\n",
        "    with st.spinner(\"Analyzing...\"):\n",
        "        response = requests.post(API_URL, files=files, data=data)\n",
        "        if response.status_code == 201:\n",
        "            result = response.json()\n",
        "            st.markdown(\"**Document ID:** `%s`\" % result.get(\"id\", \"Not available\"))\n",
        "            st.write(\"**Analysis Result:**\", result.get(\"analysis_result\", {}))\n",
        "            st.write(\"**Highlights:**\", result.get(\"highlighted_sections\", []))\n",
        "            st.code(result.get(\"extracted_text\", \"\"))\n",
        "        else:\n",
        "            st.warning(f\"Failed: {response.text}\")\n",
        "\n",
        "doc_id = st.text_input(\"Paste Document ID for Q&A:\")\n",
        "question = st.text_input(\"Your question:\")\n",
        "if doc_id and question and st.button(\"Ask\"):\n",
        "    r = requests.post(f\"{API_URL}{doc_id}/ask_question/\", json={\"question\": question})\n",
        "    if r.status_code == 200:\n",
        "        st.write(\"Answer:\", r.json()[\"answer\"])\n",
        "    else:\n",
        "        st.warning(\"Error from backend: \" + r.text)\n",
        "'''\n",
        "\n",
        "with open(\"streamlit_jurisai.py\", 'w') as f:\n",
        "    f.write(streamlit_code)\n"
      ],
      "metadata": {
        "id": "1pzOsDBoMq0x"
      },
      "execution_count": 25,
      "outputs": []
    },
    {
      "cell_type": "code",
      "source": [
        "from pyngrok import ngrok\n",
        "import subprocess\n",
        "import time\n",
        "\n",
        "ngrok.kill()  # stop old tunnels if any\n",
        "\n",
        "proc = subprocess.Popen([\"streamlit\", \"run\", \"streamlit_jurisai.py\", \"--server.port=8501\"])\n",
        "time.sleep(7)\n",
        "stream_url = ngrok.connect(8501)\n",
        "print(\"Streamlit app available at:\", stream_url)\n",
        "\n",
        "#After running all the codes, kindly click the ngrok-free.app link, not the local host"
      ],
      "metadata": {
        "colab": {
          "base_uri": "https://localhost:8080/"
        },
        "id": "9S6J1rzRMvqu",
        "outputId": "6a5503b0-de40-4a0b-da23-10c6dc2e42d5"
      },
      "execution_count": 26,
      "outputs": [
        {
          "output_type": "stream",
          "name": "stdout",
          "text": [
            "Streamlit app available at: NgrokTunnel: \"https://62db90d0bf85.ngrok-free.app\" -> \"http://localhost:8501\"\n"
          ]
        }
      ]
    }
  ]
}